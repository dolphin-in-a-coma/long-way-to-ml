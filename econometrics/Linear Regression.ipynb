{
 "cells": [
  {
   "cell_type": "markdown",
   "metadata": {},
   "source": [
    "# Практическая работа по Эконометрике\n",
    "\n",
    "### Рудаков Евгений,  ЗЕБЗ-01-16\n",
    "### Вариант № 27\n",
    "\n",
    "### Задача: построить линейное уравнение парной регрессии на заданных данных и исследовать его. Решение задачи реализовано на языке Python с использованием математических и графических библиотек. В работе присутствует код и его вывод. Для восприятия работы нет необходимости читать код, достаточно посмотреть на то, что он выводит."
   ]
  },
  {
   "cell_type": "code",
   "execution_count": 1,
   "metadata": {},
   "outputs": [],
   "source": [
    "# Импортирование необходимых библиотек\n",
    "\n",
    "import numpy as np\n",
    "import matplotlib.pyplot as plt\n",
    "import pandas as pd"
   ]
  },
  {
   "cell_type": "markdown",
   "metadata": {},
   "source": [
    "### Внесем исходные данные"
   ]
  },
  {
   "cell_type": "code",
   "execution_count": 2,
   "metadata": {
    "scrolled": true
   },
   "outputs": [
    {
     "data": {
      "text/html": [
       "<div>\n",
       "<style scoped>\n",
       "    .dataframe tbody tr th:only-of-type {\n",
       "        vertical-align: middle;\n",
       "    }\n",
       "\n",
       "    .dataframe tbody tr th {\n",
       "        vertical-align: top;\n",
       "    }\n",
       "\n",
       "    .dataframe thead th {\n",
       "        text-align: right;\n",
       "    }\n",
       "</style>\n",
       "<table border=\"1\" class=\"dataframe\">\n",
       "  <thead>\n",
       "    <tr style=\"text-align: right;\">\n",
       "      <th></th>\n",
       "      <th>Среднедушевой прожиточный минимум в день, x</th>\n",
       "      <th>Среднедневная зарплата, y</th>\n",
       "    </tr>\n",
       "    <tr>\n",
       "      <th>№ региона</th>\n",
       "      <th></th>\n",
       "      <th></th>\n",
       "    </tr>\n",
       "  </thead>\n",
       "  <tbody>\n",
       "    <tr>\n",
       "      <th>1</th>\n",
       "      <td>69</td>\n",
       "      <td>124</td>\n",
       "    </tr>\n",
       "    <tr>\n",
       "      <th>2</th>\n",
       "      <td>83</td>\n",
       "      <td>133</td>\n",
       "    </tr>\n",
       "    <tr>\n",
       "      <th>3</th>\n",
       "      <td>92</td>\n",
       "      <td>146</td>\n",
       "    </tr>\n",
       "    <tr>\n",
       "      <th>4</th>\n",
       "      <td>97</td>\n",
       "      <td>153</td>\n",
       "    </tr>\n",
       "    <tr>\n",
       "      <th>5</th>\n",
       "      <td>88</td>\n",
       "      <td>138</td>\n",
       "    </tr>\n",
       "    <tr>\n",
       "      <th>6</th>\n",
       "      <td>93</td>\n",
       "      <td>159</td>\n",
       "    </tr>\n",
       "    <tr>\n",
       "      <th>7</th>\n",
       "      <td>74</td>\n",
       "      <td>145</td>\n",
       "    </tr>\n",
       "    <tr>\n",
       "      <th>8</th>\n",
       "      <td>79</td>\n",
       "      <td>152</td>\n",
       "    </tr>\n",
       "    <tr>\n",
       "      <th>9</th>\n",
       "      <td>105</td>\n",
       "      <td>168</td>\n",
       "    </tr>\n",
       "    <tr>\n",
       "      <th>10</th>\n",
       "      <td>99</td>\n",
       "      <td>154</td>\n",
       "    </tr>\n",
       "    <tr>\n",
       "      <th>11</th>\n",
       "      <td>85</td>\n",
       "      <td>127</td>\n",
       "    </tr>\n",
       "    <tr>\n",
       "      <th>12</th>\n",
       "      <td>94</td>\n",
       "      <td>155</td>\n",
       "    </tr>\n",
       "  </tbody>\n",
       "</table>\n",
       "</div>"
      ],
      "text/plain": [
       "           Среднедушевой прожиточный минимум в день, x  \\\n",
       "№ региона                                                \n",
       "1                                                   69   \n",
       "2                                                   83   \n",
       "3                                                   92   \n",
       "4                                                   97   \n",
       "5                                                   88   \n",
       "6                                                   93   \n",
       "7                                                   74   \n",
       "8                                                   79   \n",
       "9                                                  105   \n",
       "10                                                  99   \n",
       "11                                                  85   \n",
       "12                                                  94   \n",
       "\n",
       "           Среднедневная зарплата, y  \n",
       "№ региона                             \n",
       "1                                124  \n",
       "2                                133  \n",
       "3                                146  \n",
       "4                                153  \n",
       "5                                138  \n",
       "6                                159  \n",
       "7                                145  \n",
       "8                                152  \n",
       "9                                168  \n",
       "10                               154  \n",
       "11                               127  \n",
       "12                               155  "
      ]
     },
     "execution_count": 2,
     "metadata": {},
     "output_type": "execute_result"
    }
   ],
   "source": [
    "# Создание таблицы с исходными данными\n",
    "\n",
    "frame = pd.DataFrame(data = {\"Среднедушевой прожиточный минимум в день, x\": [69, 83, 92, 97, 88, 93, 74, 79, 105, 99, 85, 94],\n",
    "                      \"Среднедневная зарплата, y\" : [124, 133, 146, 153, 138, 159, 145, 152, 168, 154, 127, 155]},\n",
    "                     columns = [\"Среднедушевой прожиточный минимум в день, x\",\n",
    "                                \"Среднедневная зарплата, y\"],\n",
    "                     index = range(1,13))\n",
    "frame.index.name = \"№ региона\"\n",
    "frame"
   ]
  },
  {
   "cell_type": "markdown",
   "metadata": {},
   "source": [
    "## 1\n",
    "### Можно произвести расчет коэффициентов линейной регрессии по формулам: $$ B_{1} = \\frac{\\sum_{i=1}^n x_{i}\\cdot (\\overline{y} - y_{i})}{\\sum_{i=1}^n x_{i}\\cdot (\\overline{x} - x_{i})}\\quad\\quad\\quad B_{0} = \\overline{y} - B_{1}\\cdot \\overline{x} $$ Но мы опробуем матричный подход, представив столбцы таблицы X и Y в виде векторов-столбцов. Вектор-столбец из X превратим в матрицу 12 на 2, дополнительно прописав в первом столбце единицы. Уравнение регрессии в матричном виде: $$ Y = B\\cdot X + E $$ Теперь задача звучит так: найти матрицу коэффициентов B, размера 2 на 1, чтобы $$ E^T\\cdot E\\rightarrow min $$ Для вычисления матрицы коэффициентов используем формулу: $$ B = (X^{T}\\cdot X)^{-1}\\cdot X^{T}\\cdot Y $$ Таким образом, имеем матрицы:"
   ]
  },
  {
   "cell_type": "code",
   "execution_count": 3,
   "metadata": {},
   "outputs": [
    {
     "name": "stdout",
     "output_type": "stream",
     "text": [
      "  X\t\t\tY\t\tB\t\tE\n",
      "1   69                 124              B0              E0\n",
      "1   83                 133              B1              E1\n",
      "1   92                 146                              E2\n",
      "1   97                 153                              E3\n",
      "1   88                 138                              E4\n",
      "1   93                 159                              E5\n",
      "1   74                 145                              E6\n",
      "1   79                 152                              E7\n",
      "1  105                 168                              E8\n",
      "1   99                 154                              E9\n",
      "1   85                 127                             E10\n",
      "1   94                 155                             E11\n"
     ]
    }
   ],
   "source": [
    "# Отображение матриц\n",
    "\n",
    "x = np.concatenate((np.array([1]*frame.shape[0]).reshape(frame.shape[0], 1),\n",
    "                    np.array(frame[\"Среднедушевой прожиточный минимум в день, x\"]).reshape(frame.shape[0], 1)), axis = 1)\n",
    "y = np.array(frame[\"Среднедневная зарплата, y\"]).reshape(frame.shape[0],1)\n",
    "x_and_y = pd.DataFrame(x)\n",
    "x_and_y[2] = [\" \"*13]*frame.shape[0]\n",
    "x_and_y[3] = y\n",
    "x_and_y[4] = [\" \"*10]*frame.shape[0]\n",
    "x_and_y[5] = [\"B0\", \"B1\"] + [\"\"]*10\n",
    "x_and_y[6] = [\" \"*9]*frame.shape[0]\n",
    "x_and_y[7] = [\"E\"+str(i) for i in range(frame.shape[0])]\n",
    "print(\"  X\\t\\t\\tY\\t\\tB\\t\\tE\", x_and_y.to_string(index = False, header = False), sep = \"\\n\")"
   ]
  },
  {
   "cell_type": "markdown",
   "metadata": {},
   "source": [
    "### Произведем расчет и выведем полученные коэффициенты."
   ]
  },
  {
   "cell_type": "code",
   "execution_count": 4,
   "metadata": {},
   "outputs": [
    {
     "name": "stdout",
     "output_type": "stream",
     "text": [
      "B0 = 64.8276418392 \n",
      "B1 = 0.922559827911\n"
     ]
    }
   ],
   "source": [
    "# Расчет и получение регрессионной функции\n",
    "\n",
    "B = np.linalg.inv(x.T@x)@x.T@y\n",
    "print(\"B0 =\", B[0][0], \"\\nB1 =\", B[1][0])\n",
    "f = lambda x: B[0][0] + x*B[1][0] "
   ]
  },
  {
   "cell_type": "markdown",
   "metadata": {},
   "source": [
    "### Полученая модель: $$ y =  64.83 + 0.92\\cdot x + e $$ говорит о том, что с увеличением прожиточного минимума на 1000 руб. средняя зарплата увеличивается на 923 руб. "
   ]
  },
  {
   "cell_type": "markdown",
   "metadata": {},
   "source": [
    "### Заполним таблицу статистическими данными"
   ]
  },
  {
   "cell_type": "code",
   "execution_count": 5,
   "metadata": {},
   "outputs": [
    {
     "data": {
      "text/html": [
       "<div>\n",
       "<style scoped>\n",
       "    .dataframe tbody tr th:only-of-type {\n",
       "        vertical-align: middle;\n",
       "    }\n",
       "\n",
       "    .dataframe tbody tr th {\n",
       "        vertical-align: top;\n",
       "    }\n",
       "\n",
       "    .dataframe thead th {\n",
       "        text-align: right;\n",
       "    }\n",
       "</style>\n",
       "<table border=\"1\" class=\"dataframe\">\n",
       "  <thead>\n",
       "    <tr style=\"text-align: right;\">\n",
       "      <th></th>\n",
       "      <th>x</th>\n",
       "      <th>y</th>\n",
       "      <th>x²</th>\n",
       "      <th>x - x̄</th>\n",
       "      <th>y - ȳ</th>\n",
       "      <th>(x - x̄)²</th>\n",
       "      <th>(y - ȳ)²</th>\n",
       "      <th>ŷₓ</th>\n",
       "      <th>y - ŷₓ</th>\n",
       "      <th>(y - ŷₓ)²</th>\n",
       "      <th>A, %</th>\n",
       "    </tr>\n",
       "  </thead>\n",
       "  <tbody>\n",
       "    <tr>\n",
       "      <th>1</th>\n",
       "      <td>69.00</td>\n",
       "      <td>124.00</td>\n",
       "      <td>4761.00</td>\n",
       "      <td>-19.17</td>\n",
       "      <td>-22.17</td>\n",
       "      <td>367.36</td>\n",
       "      <td>491.36</td>\n",
       "      <td>128.48</td>\n",
       "      <td>-4.48</td>\n",
       "      <td>20.11</td>\n",
       "      <td>3.62</td>\n",
       "    </tr>\n",
       "    <tr>\n",
       "      <th>2</th>\n",
       "      <td>83.00</td>\n",
       "      <td>133.00</td>\n",
       "      <td>6889.00</td>\n",
       "      <td>-5.17</td>\n",
       "      <td>-13.17</td>\n",
       "      <td>26.69</td>\n",
       "      <td>173.36</td>\n",
       "      <td>141.40</td>\n",
       "      <td>-8.40</td>\n",
       "      <td>70.56</td>\n",
       "      <td>6.32</td>\n",
       "    </tr>\n",
       "    <tr>\n",
       "      <th>3</th>\n",
       "      <td>92.00</td>\n",
       "      <td>146.00</td>\n",
       "      <td>8464.00</td>\n",
       "      <td>3.83</td>\n",
       "      <td>-0.17</td>\n",
       "      <td>14.69</td>\n",
       "      <td>0.03</td>\n",
       "      <td>149.70</td>\n",
       "      <td>-3.70</td>\n",
       "      <td>13.71</td>\n",
       "      <td>2.54</td>\n",
       "    </tr>\n",
       "    <tr>\n",
       "      <th>4</th>\n",
       "      <td>97.00</td>\n",
       "      <td>153.00</td>\n",
       "      <td>9409.00</td>\n",
       "      <td>8.83</td>\n",
       "      <td>6.83</td>\n",
       "      <td>78.03</td>\n",
       "      <td>46.69</td>\n",
       "      <td>154.32</td>\n",
       "      <td>-1.32</td>\n",
       "      <td>1.73</td>\n",
       "      <td>0.86</td>\n",
       "    </tr>\n",
       "    <tr>\n",
       "      <th>5</th>\n",
       "      <td>88.00</td>\n",
       "      <td>138.00</td>\n",
       "      <td>7744.00</td>\n",
       "      <td>-0.17</td>\n",
       "      <td>-8.17</td>\n",
       "      <td>0.03</td>\n",
       "      <td>66.69</td>\n",
       "      <td>146.01</td>\n",
       "      <td>-8.01</td>\n",
       "      <td>64.21</td>\n",
       "      <td>5.81</td>\n",
       "    </tr>\n",
       "    <tr>\n",
       "      <th>6</th>\n",
       "      <td>93.00</td>\n",
       "      <td>159.00</td>\n",
       "      <td>8649.00</td>\n",
       "      <td>4.83</td>\n",
       "      <td>12.83</td>\n",
       "      <td>23.36</td>\n",
       "      <td>164.69</td>\n",
       "      <td>150.63</td>\n",
       "      <td>8.37</td>\n",
       "      <td>70.13</td>\n",
       "      <td>5.27</td>\n",
       "    </tr>\n",
       "    <tr>\n",
       "      <th>7</th>\n",
       "      <td>74.00</td>\n",
       "      <td>145.00</td>\n",
       "      <td>5476.00</td>\n",
       "      <td>-14.17</td>\n",
       "      <td>-1.17</td>\n",
       "      <td>200.69</td>\n",
       "      <td>1.36</td>\n",
       "      <td>133.10</td>\n",
       "      <td>11.90</td>\n",
       "      <td>141.68</td>\n",
       "      <td>8.21</td>\n",
       "    </tr>\n",
       "    <tr>\n",
       "      <th>8</th>\n",
       "      <td>79.00</td>\n",
       "      <td>152.00</td>\n",
       "      <td>6241.00</td>\n",
       "      <td>-9.17</td>\n",
       "      <td>5.83</td>\n",
       "      <td>84.03</td>\n",
       "      <td>34.03</td>\n",
       "      <td>137.71</td>\n",
       "      <td>14.29</td>\n",
       "      <td>204.21</td>\n",
       "      <td>9.40</td>\n",
       "    </tr>\n",
       "    <tr>\n",
       "      <th>9</th>\n",
       "      <td>105.00</td>\n",
       "      <td>168.00</td>\n",
       "      <td>11025.00</td>\n",
       "      <td>16.83</td>\n",
       "      <td>21.83</td>\n",
       "      <td>283.36</td>\n",
       "      <td>476.69</td>\n",
       "      <td>161.70</td>\n",
       "      <td>6.30</td>\n",
       "      <td>39.74</td>\n",
       "      <td>3.75</td>\n",
       "    </tr>\n",
       "    <tr>\n",
       "      <th>10</th>\n",
       "      <td>99.00</td>\n",
       "      <td>154.00</td>\n",
       "      <td>9801.00</td>\n",
       "      <td>10.83</td>\n",
       "      <td>7.83</td>\n",
       "      <td>117.36</td>\n",
       "      <td>61.36</td>\n",
       "      <td>156.16</td>\n",
       "      <td>-2.16</td>\n",
       "      <td>4.67</td>\n",
       "      <td>1.40</td>\n",
       "    </tr>\n",
       "    <tr>\n",
       "      <th>11</th>\n",
       "      <td>85.00</td>\n",
       "      <td>127.00</td>\n",
       "      <td>7225.00</td>\n",
       "      <td>-3.17</td>\n",
       "      <td>-19.17</td>\n",
       "      <td>10.03</td>\n",
       "      <td>367.36</td>\n",
       "      <td>143.25</td>\n",
       "      <td>-16.25</td>\n",
       "      <td>263.91</td>\n",
       "      <td>12.79</td>\n",
       "    </tr>\n",
       "    <tr>\n",
       "      <th>12</th>\n",
       "      <td>94.00</td>\n",
       "      <td>155.00</td>\n",
       "      <td>8836.00</td>\n",
       "      <td>5.83</td>\n",
       "      <td>8.83</td>\n",
       "      <td>34.03</td>\n",
       "      <td>78.03</td>\n",
       "      <td>151.55</td>\n",
       "      <td>3.45</td>\n",
       "      <td>11.91</td>\n",
       "      <td>2.23</td>\n",
       "    </tr>\n",
       "    <tr>\n",
       "      <th>Итого</th>\n",
       "      <td>1058.00</td>\n",
       "      <td>1754.00</td>\n",
       "      <td>94520.00</td>\n",
       "      <td>-0.00</td>\n",
       "      <td>0.00</td>\n",
       "      <td>1239.67</td>\n",
       "      <td>1961.67</td>\n",
       "      <td>1754.00</td>\n",
       "      <td>0.00</td>\n",
       "      <td>906.57</td>\n",
       "      <td>62.19</td>\n",
       "    </tr>\n",
       "    <tr>\n",
       "      <th>Среднее</th>\n",
       "      <td>88.17</td>\n",
       "      <td>146.17</td>\n",
       "      <td>7876.67</td>\n",
       "      <td>-0.00</td>\n",
       "      <td>0.00</td>\n",
       "      <td>103.31</td>\n",
       "      <td>163.47</td>\n",
       "      <td>146.17</td>\n",
       "      <td>0.00</td>\n",
       "      <td>75.55</td>\n",
       "      <td>5.18</td>\n",
       "    </tr>\n",
       "  </tbody>\n",
       "</table>\n",
       "</div>"
      ],
      "text/plain": [
       "               x        y        x²  x - x̄  y - ȳ  (x - x̄)²  (y - ȳ)²  \\\n",
       "1          69.00   124.00   4761.00  -19.17 -22.17     367.36    491.36   \n",
       "2          83.00   133.00   6889.00   -5.17 -13.17      26.69    173.36   \n",
       "3          92.00   146.00   8464.00    3.83  -0.17      14.69      0.03   \n",
       "4          97.00   153.00   9409.00    8.83   6.83      78.03     46.69   \n",
       "5          88.00   138.00   7744.00   -0.17  -8.17       0.03     66.69   \n",
       "6          93.00   159.00   8649.00    4.83  12.83      23.36    164.69   \n",
       "7          74.00   145.00   5476.00  -14.17  -1.17     200.69      1.36   \n",
       "8          79.00   152.00   6241.00   -9.17   5.83      84.03     34.03   \n",
       "9         105.00   168.00  11025.00   16.83  21.83     283.36    476.69   \n",
       "10         99.00   154.00   9801.00   10.83   7.83     117.36     61.36   \n",
       "11         85.00   127.00   7225.00   -3.17 -19.17      10.03    367.36   \n",
       "12         94.00   155.00   8836.00    5.83   8.83      34.03     78.03   \n",
       "Итого    1058.00  1754.00  94520.00   -0.00   0.00    1239.67   1961.67   \n",
       "Среднее    88.17   146.17   7876.67   -0.00   0.00     103.31    163.47   \n",
       "\n",
       "              ŷₓ  y - ŷₓ  (y - ŷₓ)²   A, %  \n",
       "1         128.48   -4.48      20.11   3.62  \n",
       "2         141.40   -8.40      70.56   6.32  \n",
       "3         149.70   -3.70      13.71   2.54  \n",
       "4         154.32   -1.32       1.73   0.86  \n",
       "5         146.01   -8.01      64.21   5.81  \n",
       "6         150.63    8.37      70.13   5.27  \n",
       "7         133.10   11.90     141.68   8.21  \n",
       "8         137.71   14.29     204.21   9.40  \n",
       "9         161.70    6.30      39.74   3.75  \n",
       "10        156.16   -2.16       4.67   1.40  \n",
       "11        143.25  -16.25     263.91  12.79  \n",
       "12        151.55    3.45      11.91   2.23  \n",
       "Итого    1754.00    0.00     906.57  62.19  \n",
       "Среднее   146.17    0.00      75.55   5.18  "
      ]
     },
     "execution_count": 5,
     "metadata": {},
     "output_type": "execute_result"
    }
   ],
   "source": [
    "# Дополнение таблицы\n",
    "\n",
    "x_mean = np.mean(frame[\"Среднедушевой прожиточный минимум в день, x\"])\n",
    "y_mean = np.mean(frame[\"Среднедневная зарплата, y\"])\n",
    "frame[\"x\\u00B2\"] = frame[\"Среднедушевой прожиточный минимум в день, x\"]**2\n",
    "frame[\"x - x̄\"] = frame[\"Среднедушевой прожиточный минимум в день, x\"] - [x_mean]*frame.shape[0]\n",
    "frame[\"y - \\u0233\"] = frame[\"Среднедневная зарплата, y\"] - [y_mean]*frame.shape[0]\n",
    "#frame[\"(x - x̄)*(y - \\u0233)\"] = frame[\"x - x̄\"] * frame[\"y - \\u0233\"]\n",
    "frame[\"(x - x̄)\\u00B2\"] = frame[\"x - x̄\"]**2\n",
    "frame[\"(y - \\u0233)\\u00B2\"] = frame[\"y - \\u0233\"]**2\n",
    "frame[\"\\u0177ₓ\"] = [f(x) for x in frame[\"Среднедушевой прожиточный минимум в день, x\"]]\n",
    "frame[\"y - \\u0177ₓ\"] = frame[\"Среднедневная зарплата, y\"] - frame[\"\\u0177ₓ\"]\n",
    "frame[\"(y - \\u0177ₓ)\\u00B2\"] = frame[\"y - \\u0177ₓ\"]**2\n",
    "frame[\"A, %\"] = np.abs(frame[\"y - \\u0177ₓ\"]/frame[\"Среднедневная зарплата, y\"]*100)\n",
    "frame.index.name = None\n",
    "# frame.append([[\"nothing\"]*frame.shape[1]], ignore_index = True)\n",
    "frame.rename(columns = {\"Среднедушевой прожиточный минимум в день, x\": \"x\",\n",
    "                      \"Среднедневная зарплата, y\" : \"y\"}, inplace = True)\n",
    "frame.loc[\"Итого\"] = [round(sum(frame[column]), 2) for column in frame.columns]\n",
    "frame.loc[\"Среднее\"] = frame.loc[\"Итого\"]/(frame.shape[0] - 1)\n",
    "frame.round(2)\n",
    "\n",
    "\n"
   ]
  },
  {
   "cell_type": "markdown",
   "metadata": {},
   "source": [
    "## 2.\n",
    "### Построим графики реальных данных и функции линейной регрессии"
   ]
  },
  {
   "cell_type": "code",
   "execution_count": 6,
   "metadata": {},
   "outputs": [
    {
     "data": {
      "text/plain": [
       "<matplotlib.text.Text at 0x271ef710390>"
      ]
     },
     "execution_count": 6,
     "metadata": {},
     "output_type": "execute_result"
    },
    {
     "data": {
      "image/png": "[encoded data removed]",
      "text/plain": [
       "<matplotlib.figure.Figure at 0x271ef6bb438>"
      ]
     },
     "metadata": {},
     "output_type": "display_data"
    }
   ],
   "source": [
    "# Построение графика\n",
    "\n",
    "fig, ax = plt.subplots()\n",
    "ax.plot(frame[\"x\"][:12], frame[\"y\"][:12], \"ro\")\n",
    "ax.plot([50, 150], [f(x) for x in [50, 150]])\n",
    "ax.set_title(\"Взаимосвязь прожиточного минимума и средней зарплаты\")\n",
    "ax.set_xlim(50, 150)\n",
    "ax.set_xlabel(\"Среднедушевой прожиточный минимум в день, x\")\n",
    "ax.set_ylabel(\"Среднедневная зарплата, y\")"
   ]
  },
  {
   "cell_type": "markdown",
   "metadata": {},
   "source": [
    "## 3.\n",
    "### Рассчитаем линейный коэффициент парной корреляции и среднюю ошибку аппроксимации."
   ]
  },
  {
   "cell_type": "code",
   "execution_count": 7,
   "metadata": {},
   "outputs": [
    {
     "name": "stdout",
     "output_type": "stream",
     "text": [
      "r = 0.716510532907 \n",
      "r^2 = 0.513387343767 \n",
      "A = 5.1825 %\n"
     ]
    }
   ],
   "source": [
    "# Расчет линейного коэффициента корреляции\n",
    "\n",
    "r = B[1][0]*np.sqrt(frame.iloc[-1][0]/frame.iloc[-1][1])\n",
    "print(\"r =\", r, \"\\nr^2 =\", r**2, \"\\nA =\", frame.iloc[-1][-1], \"%\")"
   ]
  },
  {
   "cell_type": "markdown",
   "metadata": {},
   "source": [
    "### Высокий коэффициент корреляции: $$ r_{xy} = 0.717 $$ говорит о присутствии высокой линейной взаимосвязи между признаками, которую мы обязательно должны учитывать.\n",
    "### Коэффициент детерминации: $$ r_{xy}^2 = 0.513 $$ показывает, что уравнением регрессии объяснятся 51.3 % дисперсии результативного признака.\n",
    "### Довольно низкая средняя ошибка аппроксимации:  $$ A = 5.18 \\% $$ говорит о том, что подобранная модель адекватно отображает взаимосвязь между признаками."
   ]
  },
  {
   "cell_type": "markdown",
   "metadata": {},
   "source": [
    "## 4.\n",
    "### Табличное значение F-критерия Фишера для $$ k_{1} = m = 1, k_{2} = n - m - 1 = 10, \\alpha = 0.05: F_{табл} = 4.96 $$ Получим расчетное значение F-критерия Фишера по формуле $$ F = \\frac{r_{xy}^2}{1 - r_{xy}^2}\\cdot (n-2)$$"
   ]
  },
  {
   "cell_type": "code",
   "execution_count": 8,
   "metadata": {},
   "outputs": [
    {
     "name": "stdout",
     "output_type": "stream",
     "text": [
      "F = 10.5502258766\n"
     ]
    }
   ],
   "source": [
    "# Расчет F-критерия Фишера\n",
    "\n",
    "F = r**2 / (1 - r**2)*(len(x) - 2)\n",
    "print (\"F =\", F )"
   ]
  },
  {
   "cell_type": "markdown",
   "metadata": {},
   "source": [
    "### Полученное расчетное значение F-критерия Фишера: $$ F = 10.55 $$выше табличного, что говорит о статистической значимости уравнения регрессии в целом."
   ]
  },
  {
   "cell_type": "markdown",
   "metadata": {},
   "source": [
    "### Табличное значение t-критерия Стьюдента для $$ v = n - m - 1 = 10, \\alpha = 0.025: t_{табл} = 2,228 $$ Найдем расчетное значение t-критериев Стьюдента для B0, B1, r. Для начала найдем необъясненную дисперсию по формуле $$ S_{ост}^2 = \\frac{\\sum (y - \\hat{y})^2}{n - m - 1} $$ Затем случайные ошибки параметров $$ m_{B_{0}} = \\frac{S_{ост}\\cdot \\sqrt{\\sum x^2}}{\\sigma_{x}\\cdot {n}},\\quad\\quad m_{B_{1}} = \\frac{S_{ост}}{\\sigma_{x}\\cdot\\sqrt{ n}}, \\quad\\quad m_{r_{xy}} = \\frac{\\sqrt{1 - r_{xy}^2}}{n - m - 1} $$ И далее получим расчетные значения t-критерия Стьюдента: $$ t_{B_{0}} = B_{0}/ m_{B_{0}},\\quad\\quad t_{B_{1}} = B_{1}/ m_{B_{1}},\\quad\\quad t_{r_{xy}} = r_{xy}/ m_{r_{xy}}$$ "
   ]
  },
  {
   "cell_type": "code",
   "execution_count": 9,
   "metadata": {},
   "outputs": [
    {
     "name": "stdout",
     "output_type": "stream",
     "text": [
      "S_2 = 90.657\n",
      "m_B0 = 24.0004209753\n",
      "m_B1 = 0.270425490427\n",
      "m_r = 0.220592986342\n",
      "t_B0 = 2.70110436421\n",
      "t_B1 = 3.41151208214\n",
      "t_r = 3.24811112442\n"
     ]
    }
   ],
   "source": [
    "# Расчет t-критерия Стьюдента\n",
    "\n",
    "S_2 = frame.iloc[-2][-2]/(len(x) - 1 - 1)\n",
    "m_B0 = np.sqrt( S_2 * frame.iloc[-2][2]/ frame.iloc[-1][5])/len(x)\n",
    "m_B1 = np.sqrt( S_2 / (frame.iloc[-1][5] * len(x) ))\n",
    "m_r = np.sqrt((1 - r**2)/(len(x) - 1 - 1))\n",
    "t_B0 = B[0][0]/m_B0\n",
    "t_B1 = B[1][0]/m_B1\n",
    "t_r = r/m_r\n",
    "\n",
    "print(\"S_2 =\", S_2)\n",
    "print(\"m_B0 =\", m_B0)\n",
    "print(\"m_B1 =\", m_B1)\n",
    "print(\"m_r =\", m_r)\n",
    "print(\"t_B0 =\", t_B0)\n",
    "print(\"t_B1 =\", t_B1)\n",
    "print(\"t_r =\", t_r)"
   ]
  },
  {
   "cell_type": "markdown",
   "metadata": {},
   "source": [
    "### Расчетный t-критерий Стьюдента для параметров и для r: $$ t_{B_{0}} = 2.7,\\quad\\quad t_{B_{1}} = 3.41,\\quad\\quad t_{r_{xy}} = 3.25 $$ больше, чем табличное значение критерия. Следовательно, параметры регрессии и показатель частоты связи значимы.  "
   ]
  },
  {
   "cell_type": "code",
   "execution_count": 10,
   "metadata": {},
   "outputs": [
    {
     "name": "stdout",
     "output_type": "stream",
     "text": [
      "Доверительный интервал для B0:  [11.35470390628381, 118.30057977212311]\n",
      "Доверительный интервал для B1:  [0.32005183523933389, 1.5250678205821155]\n"
     ]
    }
   ],
   "source": [
    "# Расчет доверительных интервалов\n",
    "\n",
    "interval_B0 = np.array([B[0][0]]*2) + np.array([-2.228*m_B0, 2.228*m_B0])\n",
    "interval_B1 = np.array([B[1][0]]*2) + np.array([-2.228*m_B1, 2.228*m_B1])\n",
    "print(\"Доверительный интервал для B0: \", list(interval_B0))\n",
    "print(\"Доверительный интервал для B1: \", list(interval_B1))"
   ]
  },
  {
   "cell_type": "markdown",
   "metadata": {},
   "source": [
    "###  Доверительные интервалы коэффициентов: $$ B_0 \\in [11.35, 118.3] $$\n",
    "### $$ B_1 \\in [0.32, 1.53] $$"
   ]
  }
 ],
 "metadata": {
  "kernelspec": {
   "display_name": "Python 3",
   "language": "python",
   "name": "python3"
  },
  "language_info": {
   "codemirror_mode": {
    "name": "ipython",
    "version": 3
   },
   "file_extension": ".py",
   "mimetype": "text/x-python",
   "name": "python",
   "nbconvert_exporter": "python",
   "pygments_lexer": "ipython3",
   "version": "3.5.2"
  }
 },
 "nbformat": 4,
 "nbformat_minor": 2
}
